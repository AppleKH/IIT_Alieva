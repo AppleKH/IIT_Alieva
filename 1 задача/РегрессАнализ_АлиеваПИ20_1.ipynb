{
  "cells": [
    {
      "cell_type": "markdown",
      "source": [
        "Нужно реализовать задачу нахождения уровня влияния факторов на успешность аккаунта. Критерием успешности является количество лайков."
      ],
      "metadata": {
        "id": "ChvMNEIkAMus"
      },
      "id": "ChvMNEIkAMus"
    },
    {
      "cell_type": "code",
      "execution_count": null,
      "id": "dc8594b9",
      "metadata": {
        "id": "dc8594b9"
      },
      "outputs": [],
      "source": [
        "import pandas as pd\n",
        "import numpy  as np\n",
        "from sklearn.model_selection import train_test_split\n",
        "import seaborn as sns\n",
        "import matplotlib.pyplot as plt\n",
        "from sklearn.preprocessing import PolynomialFeatures\n",
        "from sklearn.metrics import r2_score\n",
        "from sklearn.linear_model import LinearRegression"
      ]
    },
    {
      "cell_type": "code",
      "execution_count": null,
      "id": "5abf573d",
      "metadata": {
        "id": "5abf573d",
        "outputId": "464608a6-7e11-4d5a-b3db-e0c9c7ae76c6"
      },
      "outputs": [
        {
          "data": {
            "text/html": [
              "<div>\n",
              "<style scoped>\n",
              "    .dataframe tbody tr th:only-of-type {\n",
              "        vertical-align: middle;\n",
              "    }\n",
              "\n",
              "    .dataframe tbody tr th {\n",
              "        vertical-align: top;\n",
              "    }\n",
              "\n",
              "    .dataframe thead th {\n",
              "        text-align: right;\n",
              "    }\n",
              "</style>\n",
              "<table border=\"1\" class=\"dataframe\">\n",
              "  <thead>\n",
              "    <tr style=\"text-align: right;\">\n",
              "      <th></th>\n",
              "      <th>date</th>\n",
              "      <th>id</th>\n",
              "      <th>content</th>\n",
              "      <th>username</th>\n",
              "      <th>like_count</th>\n",
              "      <th>retweet_count</th>\n",
              "    </tr>\n",
              "  </thead>\n",
              "  <tbody>\n",
              "    <tr>\n",
              "      <th>0</th>\n",
              "      <td>2023-03-29 22:58:21+00:00</td>\n",
              "      <td>1641213230730051584</td>\n",
              "      <td>Free AI marketing and automation tools, strate...</td>\n",
              "      <td>RealProfitPros</td>\n",
              "      <td>0.0</td>\n",
              "      <td>0.0</td>\n",
              "    </tr>\n",
              "    <tr>\n",
              "      <th>1</th>\n",
              "      <td>2023-03-29 22:58:18+00:00</td>\n",
              "      <td>1641213218520481805</td>\n",
              "      <td>@MecoleHardman4 Chat GPT says it’s 15. 😂</td>\n",
              "      <td>AmyLouWho321</td>\n",
              "      <td>0.0</td>\n",
              "      <td>0.0</td>\n",
              "    </tr>\n",
              "    <tr>\n",
              "      <th>2</th>\n",
              "      <td>2023-03-29 22:57:53+00:00</td>\n",
              "      <td>1641213115684536323</td>\n",
              "      <td>https://t.co/FjJSprt0te - Chat with any PDF!\\n...</td>\n",
              "      <td>yjleon1976</td>\n",
              "      <td>0.0</td>\n",
              "      <td>0.0</td>\n",
              "    </tr>\n",
              "    <tr>\n",
              "      <th>3</th>\n",
              "      <td>2023-03-29 22:57:52+00:00</td>\n",
              "      <td>1641213110915571715</td>\n",
              "      <td>AI muses: \"In the court of life, we must all f...</td>\n",
              "      <td>ChatGPT_Thinks</td>\n",
              "      <td>0.0</td>\n",
              "      <td>0.0</td>\n",
              "    </tr>\n",
              "    <tr>\n",
              "      <th>4</th>\n",
              "      <td>2023-03-29 22:57:26+00:00</td>\n",
              "      <td>1641213003260633088</td>\n",
              "      <td>Most people haven't heard of Chat GPT yet.\\nFi...</td>\n",
              "      <td>nikocosmonaut</td>\n",
              "      <td>0.0</td>\n",
              "      <td>0.0</td>\n",
              "    </tr>\n",
              "  </tbody>\n",
              "</table>\n",
              "</div>"
            ],
            "text/plain": [
              "                        date                   id  \\\n",
              "0  2023-03-29 22:58:21+00:00  1641213230730051584   \n",
              "1  2023-03-29 22:58:18+00:00  1641213218520481805   \n",
              "2  2023-03-29 22:57:53+00:00  1641213115684536323   \n",
              "3  2023-03-29 22:57:52+00:00  1641213110915571715   \n",
              "4  2023-03-29 22:57:26+00:00  1641213003260633088   \n",
              "\n",
              "                                             content        username  \\\n",
              "0  Free AI marketing and automation tools, strate...  RealProfitPros   \n",
              "1           @MecoleHardman4 Chat GPT says it’s 15. 😂    AmyLouWho321   \n",
              "2  https://t.co/FjJSprt0te - Chat with any PDF!\\n...      yjleon1976   \n",
              "3  AI muses: \"In the court of life, we must all f...  ChatGPT_Thinks   \n",
              "4  Most people haven't heard of Chat GPT yet.\\nFi...   nikocosmonaut   \n",
              "\n",
              "   like_count  retweet_count  \n",
              "0         0.0            0.0  \n",
              "1         0.0            0.0  \n",
              "2         0.0            0.0  \n",
              "3         0.0            0.0  \n",
              "4         0.0            0.0  "
            ]
          },
          "execution_count": 3,
          "metadata": {},
          "output_type": "execute_result"
        }
      ],
      "source": [
        "df = pd.read_csv('Twitter Jan Mar.csv')\n",
        "df.head()"
      ]
    },
    {
      "cell_type": "code",
      "execution_count": null,
      "id": "ffaa0b8c",
      "metadata": {
        "id": "ffaa0b8c"
      },
      "outputs": [],
      "source": [
        "df=df.dropna(subset='content')\n",
        "df=df.dropna(subset='like_count')"
      ]
    },
    {
      "cell_type": "code",
      "execution_count": null,
      "id": "b17fc26c",
      "metadata": {
        "id": "b17fc26c",
        "outputId": "019261e7-b59f-487a-fe78-4b0db248dd1b"
      },
      "outputs": [
        {
          "data": {
            "text/html": [
              "<div>\n",
              "<style scoped>\n",
              "    .dataframe tbody tr th:only-of-type {\n",
              "        vertical-align: middle;\n",
              "    }\n",
              "\n",
              "    .dataframe tbody tr th {\n",
              "        vertical-align: top;\n",
              "    }\n",
              "\n",
              "    .dataframe thead th {\n",
              "        text-align: right;\n",
              "    }\n",
              "</style>\n",
              "<table border=\"1\" class=\"dataframe\">\n",
              "  <thead>\n",
              "    <tr style=\"text-align: right;\">\n",
              "      <th></th>\n",
              "      <th>date</th>\n",
              "      <th>id</th>\n",
              "      <th>content</th>\n",
              "      <th>username</th>\n",
              "      <th>like_count</th>\n",
              "      <th>retweet_count</th>\n",
              "      <th>len</th>\n",
              "    </tr>\n",
              "  </thead>\n",
              "  <tbody>\n",
              "    <tr>\n",
              "      <th>0</th>\n",
              "      <td>2023-03-29 22:58:21+00:00</td>\n",
              "      <td>1641213230730051584</td>\n",
              "      <td>Free AI marketing and automation tools, strate...</td>\n",
              "      <td>RealProfitPros</td>\n",
              "      <td>0.0</td>\n",
              "      <td>0.0</td>\n",
              "      <td>123</td>\n",
              "    </tr>\n",
              "    <tr>\n",
              "      <th>1</th>\n",
              "      <td>2023-03-29 22:58:18+00:00</td>\n",
              "      <td>1641213218520481805</td>\n",
              "      <td>@MecoleHardman4 Chat GPT says it’s 15. 😂</td>\n",
              "      <td>AmyLouWho321</td>\n",
              "      <td>0.0</td>\n",
              "      <td>0.0</td>\n",
              "      <td>40</td>\n",
              "    </tr>\n",
              "    <tr>\n",
              "      <th>2</th>\n",
              "      <td>2023-03-29 22:57:53+00:00</td>\n",
              "      <td>1641213115684536323</td>\n",
              "      <td>https://t.co/FjJSprt0te - Chat with any PDF!\\n...</td>\n",
              "      <td>yjleon1976</td>\n",
              "      <td>0.0</td>\n",
              "      <td>0.0</td>\n",
              "      <td>201</td>\n",
              "    </tr>\n",
              "    <tr>\n",
              "      <th>3</th>\n",
              "      <td>2023-03-29 22:57:52+00:00</td>\n",
              "      <td>1641213110915571715</td>\n",
              "      <td>AI muses: \"In the court of life, we must all f...</td>\n",
              "      <td>ChatGPT_Thinks</td>\n",
              "      <td>0.0</td>\n",
              "      <td>0.0</td>\n",
              "      <td>143</td>\n",
              "    </tr>\n",
              "    <tr>\n",
              "      <th>4</th>\n",
              "      <td>2023-03-29 22:57:26+00:00</td>\n",
              "      <td>1641213003260633088</td>\n",
              "      <td>Most people haven't heard of Chat GPT yet.\\nFi...</td>\n",
              "      <td>nikocosmonaut</td>\n",
              "      <td>0.0</td>\n",
              "      <td>0.0</td>\n",
              "      <td>279</td>\n",
              "    </tr>\n",
              "    <tr>\n",
              "      <th>...</th>\n",
              "      <td>...</td>\n",
              "      <td>...</td>\n",
              "      <td>...</td>\n",
              "      <td>...</td>\n",
              "      <td>...</td>\n",
              "      <td>...</td>\n",
              "      <td>...</td>\n",
              "    </tr>\n",
              "    <tr>\n",
              "      <th>500031</th>\n",
              "      <td>2023-01-04 07:18:08+00:00</td>\n",
              "      <td>1610536038094757888</td>\n",
              "      <td>@GoogleAI #LAMDA Versus @OpenAI #ChatGPT ?! Wh...</td>\n",
              "      <td>Pup_In_Cup</td>\n",
              "      <td>1.0</td>\n",
              "      <td>0.0</td>\n",
              "      <td>277</td>\n",
              "    </tr>\n",
              "    <tr>\n",
              "      <th>500032</th>\n",
              "      <td>2023-01-04 07:17:50+00:00</td>\n",
              "      <td>1610535961670172674</td>\n",
              "      <td>#ChatGPT \\n\\nSo much #Censorship.\\n\\nNever tru...</td>\n",
              "      <td>TryingToOffend</td>\n",
              "      <td>2.0</td>\n",
              "      <td>0.0</td>\n",
              "      <td>94</td>\n",
              "    </tr>\n",
              "    <tr>\n",
              "      <th>500033</th>\n",
              "      <td>2023-01-04 07:17:20+00:00</td>\n",
              "      <td>1610535837363486720</td>\n",
              "      <td>all my twitter feed is about ChatGPT and @Open...</td>\n",
              "      <td>mcp350</td>\n",
              "      <td>3.0</td>\n",
              "      <td>1.0</td>\n",
              "      <td>68</td>\n",
              "    </tr>\n",
              "    <tr>\n",
              "      <th>500034</th>\n",
              "      <td>2023-01-04 07:17:08+00:00</td>\n",
              "      <td>1610535786017091584</td>\n",
              "      <td>I'm quite amazed by Chat GPT. A really promisi...</td>\n",
              "      <td>manumurali369</td>\n",
              "      <td>1.0</td>\n",
              "      <td>0.0</td>\n",
              "      <td>79</td>\n",
              "    </tr>\n",
              "    <tr>\n",
              "      <th>500035</th>\n",
              "      <td>2023-01-04 07:16:56+00:00</td>\n",
              "      <td>1610535734758219778</td>\n",
              "      <td>I used chat gpt to get gym workout program and...</td>\n",
              "      <td>pnik91</td>\n",
              "      <td>0.0</td>\n",
              "      <td>0.0</td>\n",
              "      <td>74</td>\n",
              "    </tr>\n",
              "  </tbody>\n",
              "</table>\n",
              "<p>499974 rows × 7 columns</p>\n",
              "</div>"
            ],
            "text/plain": [
              "                             date                   id  \\\n",
              "0       2023-03-29 22:58:21+00:00  1641213230730051584   \n",
              "1       2023-03-29 22:58:18+00:00  1641213218520481805   \n",
              "2       2023-03-29 22:57:53+00:00  1641213115684536323   \n",
              "3       2023-03-29 22:57:52+00:00  1641213110915571715   \n",
              "4       2023-03-29 22:57:26+00:00  1641213003260633088   \n",
              "...                           ...                  ...   \n",
              "500031  2023-01-04 07:18:08+00:00  1610536038094757888   \n",
              "500032  2023-01-04 07:17:50+00:00  1610535961670172674   \n",
              "500033  2023-01-04 07:17:20+00:00  1610535837363486720   \n",
              "500034  2023-01-04 07:17:08+00:00  1610535786017091584   \n",
              "500035  2023-01-04 07:16:56+00:00  1610535734758219778   \n",
              "\n",
              "                                                  content        username  \\\n",
              "0       Free AI marketing and automation tools, strate...  RealProfitPros   \n",
              "1                @MecoleHardman4 Chat GPT says it’s 15. 😂    AmyLouWho321   \n",
              "2       https://t.co/FjJSprt0te - Chat with any PDF!\\n...      yjleon1976   \n",
              "3       AI muses: \"In the court of life, we must all f...  ChatGPT_Thinks   \n",
              "4       Most people haven't heard of Chat GPT yet.\\nFi...   nikocosmonaut   \n",
              "...                                                   ...             ...   \n",
              "500031  @GoogleAI #LAMDA Versus @OpenAI #ChatGPT ?! Wh...      Pup_In_Cup   \n",
              "500032  #ChatGPT \\n\\nSo much #Censorship.\\n\\nNever tru...  TryingToOffend   \n",
              "500033  all my twitter feed is about ChatGPT and @Open...          mcp350   \n",
              "500034  I'm quite amazed by Chat GPT. A really promisi...   manumurali369   \n",
              "500035  I used chat gpt to get gym workout program and...          pnik91   \n",
              "\n",
              "        like_count  retweet_count  len  \n",
              "0              0.0            0.0  123  \n",
              "1              0.0            0.0   40  \n",
              "2              0.0            0.0  201  \n",
              "3              0.0            0.0  143  \n",
              "4              0.0            0.0  279  \n",
              "...            ...            ...  ...  \n",
              "500031         1.0            0.0  277  \n",
              "500032         2.0            0.0   94  \n",
              "500033         3.0            1.0   68  \n",
              "500034         1.0            0.0   79  \n",
              "500035         0.0            0.0   74  \n",
              "\n",
              "[499974 rows x 7 columns]"
            ]
          },
          "execution_count": 5,
          "metadata": {},
          "output_type": "execute_result"
        }
      ],
      "source": [
        "df['len'] = df.content.apply(len)\n",
        "df"
      ]
    },
    {
      "cell_type": "code",
      "execution_count": null,
      "id": "de770952",
      "metadata": {
        "id": "de770952"
      },
      "outputs": [],
      "source": [
        "post = df.groupby(['username'])['content'].count().reset_index() # Количество постов\n",
        "post_len = df.groupby(['username'])['len'].mean().reset_index() # Среднаяя длина постов аккаунта\n",
        "retweet = df.groupby(['username'])['retweet_count'].sum().reset_index() # Сумма ретвитах на постах аккаунта\n",
        "like = df.groupby(['username'])['like_count'].sum().reset_index() # Общее кол-во лайков на постах аккаунта"
      ]
    },
    {
      "cell_type": "code",
      "execution_count": null,
      "id": "be6df570",
      "metadata": {
        "id": "be6df570",
        "outputId": "4bc48203-3f88-4d79-fd84-268918e5ec96"
      },
      "outputs": [
        {
          "data": {
            "text/html": [
              "<div>\n",
              "<style scoped>\n",
              "    .dataframe tbody tr th:only-of-type {\n",
              "        vertical-align: middle;\n",
              "    }\n",
              "\n",
              "    .dataframe tbody tr th {\n",
              "        vertical-align: top;\n",
              "    }\n",
              "\n",
              "    .dataframe thead th {\n",
              "        text-align: right;\n",
              "    }\n",
              "</style>\n",
              "<table border=\"1\" class=\"dataframe\">\n",
              "  <thead>\n",
              "    <tr style=\"text-align: right;\">\n",
              "      <th></th>\n",
              "      <th>post_count</th>\n",
              "      <th>mean_len</th>\n",
              "      <th>retweet_sum</th>\n",
              "      <th>like_sum</th>\n",
              "    </tr>\n",
              "    <tr>\n",
              "      <th>username</th>\n",
              "      <th></th>\n",
              "      <th></th>\n",
              "      <th></th>\n",
              "      <th></th>\n",
              "    </tr>\n",
              "  </thead>\n",
              "  <tbody>\n",
              "    <tr>\n",
              "      <th>000000000000oh</th>\n",
              "      <td>1</td>\n",
              "      <td>59.000000</td>\n",
              "      <td>0.0</td>\n",
              "      <td>0.0</td>\n",
              "    </tr>\n",
              "    <tr>\n",
              "      <th>0000Origins</th>\n",
              "      <td>1</td>\n",
              "      <td>122.000000</td>\n",
              "      <td>0.0</td>\n",
              "      <td>0.0</td>\n",
              "    </tr>\n",
              "    <tr>\n",
              "      <th>000Dave</th>\n",
              "      <td>3</td>\n",
              "      <td>224.333333</td>\n",
              "      <td>2.0</td>\n",
              "      <td>14.0</td>\n",
              "    </tr>\n",
              "    <tr>\n",
              "      <th>000_Mike_000</th>\n",
              "      <td>1</td>\n",
              "      <td>45.000000</td>\n",
              "      <td>0.0</td>\n",
              "      <td>0.0</td>\n",
              "    </tr>\n",
              "    <tr>\n",
              "      <th>000dotpls</th>\n",
              "      <td>3</td>\n",
              "      <td>126.333333</td>\n",
              "      <td>1.0</td>\n",
              "      <td>5.0</td>\n",
              "    </tr>\n",
              "    <tr>\n",
              "      <th>...</th>\n",
              "      <td>...</td>\n",
              "      <td>...</td>\n",
              "      <td>...</td>\n",
              "      <td>...</td>\n",
              "    </tr>\n",
              "    <tr>\n",
              "      <th>zzongiszzang</th>\n",
              "      <td>1</td>\n",
              "      <td>29.000000</td>\n",
              "      <td>0.0</td>\n",
              "      <td>0.0</td>\n",
              "    </tr>\n",
              "    <tr>\n",
              "      <th>zzsaif777</th>\n",
              "      <td>1</td>\n",
              "      <td>38.000000</td>\n",
              "      <td>0.0</td>\n",
              "      <td>1.0</td>\n",
              "    </tr>\n",
              "    <tr>\n",
              "      <th>zzz_jah</th>\n",
              "      <td>1</td>\n",
              "      <td>121.000000</td>\n",
              "      <td>0.0</td>\n",
              "      <td>14.0</td>\n",
              "    </tr>\n",
              "    <tr>\n",
              "      <th>zzzwind</th>\n",
              "      <td>1</td>\n",
              "      <td>61.000000</td>\n",
              "      <td>0.0</td>\n",
              "      <td>1.0</td>\n",
              "    </tr>\n",
              "    <tr>\n",
              "      <th>zzzzzrrrrrr3344</th>\n",
              "      <td>1</td>\n",
              "      <td>79.000000</td>\n",
              "      <td>0.0</td>\n",
              "      <td>1.0</td>\n",
              "    </tr>\n",
              "  </tbody>\n",
              "</table>\n",
              "<p>249998 rows × 4 columns</p>\n",
              "</div>"
            ],
            "text/plain": [
              "                 post_count    mean_len  retweet_sum  like_sum\n",
              "username                                                      \n",
              "000000000000oh            1   59.000000          0.0       0.0\n",
              "0000Origins               1  122.000000          0.0       0.0\n",
              "000Dave                   3  224.333333          2.0      14.0\n",
              "000_Mike_000              1   45.000000          0.0       0.0\n",
              "000dotpls                 3  126.333333          1.0       5.0\n",
              "...                     ...         ...          ...       ...\n",
              "zzongiszzang              1   29.000000          0.0       0.0\n",
              "zzsaif777                 1   38.000000          0.0       1.0\n",
              "zzz_jah                   1  121.000000          0.0      14.0\n",
              "zzzwind                   1   61.000000          0.0       1.0\n",
              "zzzzzrrrrrr3344           1   79.000000          0.0       1.0\n",
              "\n",
              "[249998 rows x 4 columns]"
            ]
          },
          "execution_count": 7,
          "metadata": {},
          "output_type": "execute_result"
        }
      ],
      "source": [
        "df = pd.DataFrame({'username': post['username'], 'post_count': post['content'], 'mean_len': post_len['len'], 'retweet_sum': retweet['retweet_count'], 'like_sum':like['like_count']})\n",
        "df = df.set_index('username')\n",
        "df"
      ]
    },
    {
      "cell_type": "code",
      "execution_count": null,
      "id": "808f16b2",
      "metadata": {
        "id": "808f16b2",
        "outputId": "8a4f61e2-a461-40b9-9e22-f1bf455c01f3"
      },
      "outputs": [
        {
          "name": "stdout",
          "output_type": "stream",
          "text": [
            "<class 'pandas.core.frame.DataFrame'>\n",
            "Index: 249998 entries, 000000000000oh to zzzzzrrrrrr3344\n",
            "Data columns (total 4 columns):\n",
            " #   Column       Non-Null Count   Dtype  \n",
            "---  ------       --------------   -----  \n",
            " 0   post_count   249998 non-null  int64  \n",
            " 1   mean_len     249998 non-null  float64\n",
            " 2   retweet_sum  249998 non-null  float64\n",
            " 3   like_sum     249998 non-null  float64\n",
            "dtypes: float64(3), int64(1)\n",
            "memory usage: 9.5+ MB\n"
          ]
        }
      ],
      "source": [
        "df.info()"
      ]
    },
    {
      "cell_type": "code",
      "execution_count": null,
      "id": "dfb29d0d",
      "metadata": {
        "id": "dfb29d0d",
        "outputId": "df37ec0b-b99e-4bf9-f499-d6932f5d397d"
      },
      "outputs": [
        {
          "data": {
            "text/plain": [
              "<AxesSubplot: >"
            ]
          },
          "execution_count": 9,
          "metadata": {},
          "output_type": "execute_result"
        },
        {
          "data": {
            "image/png": "[encoded data removed]",
            "text/plain": [
              "<Figure size 432x288 with 1 Axes>"
            ]
          },
          "metadata": {
            "needs_background": "light"
          },
          "output_type": "display_data"
        }
      ],
      "source": [
        "sns.heatmap(df.corr(), annot=True, cbar= False)"
      ]
    },
    {
      "cell_type": "markdown",
      "id": "a7fa6733",
      "metadata": {
        "id": "a7fa6733"
      },
      "source": [
        "* Между post_count и mean_len значение корреляции равно 0.045360. Это близко к нулю, что указывает на отсутствие линейной корреляции между этими двумя переменными.\n",
        "\n",
        "* Между post_count и retweet_sum значение корреляции равно 0.129633. Это положительная корреляция, что может указывать на то, что, в среднем, более высокий post_count связан с более высоким retweet_sum.\n",
        "\n",
        "* Между post_count и like_sum значение корреляции равно 0.098654. Это также положительная корреляция, что может указывать на то, что, в среднем, более высокий post_count связан с более высоким like_sum.\n",
        "\n",
        "* Между mean_len и retweet_sum значение корреляции равно 0.022635. Это очень близко к нулю, что указывает на отсутствие линейной корреляции между этими двумя переменными.\n",
        "\n",
        "* Между mean_len и like_sum значение корреляции равно 0.013002. Это также очень близко к нулю, что указывает на отсутствие линейной корреляции между этими двумя переменными.\n",
        "\n",
        "* Между retweet_sum и like_sum значение корреляции равно 0.822330. Это сильная положительная корреляция, что может указывать на то, что более высокое количество ретвитов (retweet_sum) обычно сопровождается более высоким количеством лайков (like_sum)."
      ]
    },
    {
      "cell_type": "code",
      "execution_count": null,
      "id": "946813f2",
      "metadata": {
        "id": "946813f2",
        "outputId": "9c474afc-8028-4b11-d315-a794e293fdaf"
      },
      "outputs": [
        {
          "data": {
            "text/plain": [
              "retweet_sum    0.822330\n",
              "post_count     0.098654\n",
              "mean_len       0.013002\n",
              "Name: like_sum, dtype: float64"
            ]
          },
          "execution_count": 26,
          "metadata": {},
          "output_type": "execute_result"
        }
      ],
      "source": [
        "correlation_matrix = df.corr()\n",
        "# Отсортируйте абсолютные значения корреляции между y и другими переменными\n",
        "correlation_with_y = correlation_matrix['like_sum'].abs().sort_values(ascending=False)\n",
        "\n",
        "# Выведите рейтинг влияния переменных на y\n",
        "correlation_with_y.tail(len(correlation_matrix)-1)"
      ]
    },
    {
      "cell_type": "code",
      "execution_count": null,
      "id": "1e76b26f",
      "metadata": {
        "id": "1e76b26f",
        "outputId": "febc53eb-76d4-4954-bdc7-73b48ce8c3c6"
      },
      "outputs": [
        {
          "data": {
            "text/html": [
              "<div>\n",
              "<style scoped>\n",
              "    .dataframe tbody tr th:only-of-type {\n",
              "        vertical-align: middle;\n",
              "    }\n",
              "\n",
              "    .dataframe tbody tr th {\n",
              "        vertical-align: top;\n",
              "    }\n",
              "\n",
              "    .dataframe thead th {\n",
              "        text-align: right;\n",
              "    }\n",
              "</style>\n",
              "<table border=\"1\" class=\"dataframe\">\n",
              "  <thead>\n",
              "    <tr style=\"text-align: right;\">\n",
              "      <th></th>\n",
              "      <th>post_count</th>\n",
              "      <th>mean_len</th>\n",
              "      <th>retweet_sum</th>\n",
              "      <th>like_sum</th>\n",
              "    </tr>\n",
              "    <tr>\n",
              "      <th>username</th>\n",
              "      <th></th>\n",
              "      <th></th>\n",
              "      <th></th>\n",
              "      <th></th>\n",
              "    </tr>\n",
              "  </thead>\n",
              "  <tbody>\n",
              "    <tr>\n",
              "      <th>000000000000oh</th>\n",
              "      <td>1</td>\n",
              "      <td>59.000000</td>\n",
              "      <td>0.0</td>\n",
              "      <td>0.0</td>\n",
              "    </tr>\n",
              "    <tr>\n",
              "      <th>0000Origins</th>\n",
              "      <td>1</td>\n",
              "      <td>122.000000</td>\n",
              "      <td>0.0</td>\n",
              "      <td>0.0</td>\n",
              "    </tr>\n",
              "    <tr>\n",
              "      <th>000Dave</th>\n",
              "      <td>3</td>\n",
              "      <td>224.333333</td>\n",
              "      <td>2.0</td>\n",
              "      <td>14.0</td>\n",
              "    </tr>\n",
              "    <tr>\n",
              "      <th>000_Mike_000</th>\n",
              "      <td>1</td>\n",
              "      <td>45.000000</td>\n",
              "      <td>0.0</td>\n",
              "      <td>0.0</td>\n",
              "    </tr>\n",
              "    <tr>\n",
              "      <th>000dotpls</th>\n",
              "      <td>3</td>\n",
              "      <td>126.333333</td>\n",
              "      <td>1.0</td>\n",
              "      <td>5.0</td>\n",
              "    </tr>\n",
              "    <tr>\n",
              "      <th>...</th>\n",
              "      <td>...</td>\n",
              "      <td>...</td>\n",
              "      <td>...</td>\n",
              "      <td>...</td>\n",
              "    </tr>\n",
              "    <tr>\n",
              "      <th>zzongiszzang</th>\n",
              "      <td>1</td>\n",
              "      <td>29.000000</td>\n",
              "      <td>0.0</td>\n",
              "      <td>0.0</td>\n",
              "    </tr>\n",
              "    <tr>\n",
              "      <th>zzsaif777</th>\n",
              "      <td>1</td>\n",
              "      <td>38.000000</td>\n",
              "      <td>0.0</td>\n",
              "      <td>1.0</td>\n",
              "    </tr>\n",
              "    <tr>\n",
              "      <th>zzz_jah</th>\n",
              "      <td>1</td>\n",
              "      <td>121.000000</td>\n",
              "      <td>0.0</td>\n",
              "      <td>14.0</td>\n",
              "    </tr>\n",
              "    <tr>\n",
              "      <th>zzzwind</th>\n",
              "      <td>1</td>\n",
              "      <td>61.000000</td>\n",
              "      <td>0.0</td>\n",
              "      <td>1.0</td>\n",
              "    </tr>\n",
              "    <tr>\n",
              "      <th>zzzzzrrrrrr3344</th>\n",
              "      <td>1</td>\n",
              "      <td>79.000000</td>\n",
              "      <td>0.0</td>\n",
              "      <td>1.0</td>\n",
              "    </tr>\n",
              "  </tbody>\n",
              "</table>\n",
              "<p>249998 rows × 4 columns</p>\n",
              "</div>"
            ],
            "text/plain": [
              "                 post_count    mean_len  retweet_sum  like_sum\n",
              "username                                                      \n",
              "000000000000oh            1   59.000000          0.0       0.0\n",
              "0000Origins               1  122.000000          0.0       0.0\n",
              "000Dave                   3  224.333333          2.0      14.0\n",
              "000_Mike_000              1   45.000000          0.0       0.0\n",
              "000dotpls                 3  126.333333          1.0       5.0\n",
              "...                     ...         ...          ...       ...\n",
              "zzongiszzang              1   29.000000          0.0       0.0\n",
              "zzsaif777                 1   38.000000          0.0       1.0\n",
              "zzz_jah                   1  121.000000          0.0      14.0\n",
              "zzzwind                   1   61.000000          0.0       1.0\n",
              "zzzzzrrrrrr3344           1   79.000000          0.0       1.0\n",
              "\n",
              "[249998 rows x 4 columns]"
            ]
          },
          "execution_count": 361,
          "metadata": {},
          "output_type": "execute_result"
        }
      ],
      "source": [
        "df"
      ]
    },
    {
      "cell_type": "code",
      "execution_count": null,
      "id": "4326fecd",
      "metadata": {
        "id": "4326fecd",
        "outputId": "1c29b539-df35-4481-cea8-c919b0d3c25c"
      },
      "outputs": [
        {
          "data": {
            "text/html": [
              "<div>\n",
              "<style scoped>\n",
              "    .dataframe tbody tr th:only-of-type {\n",
              "        vertical-align: middle;\n",
              "    }\n",
              "\n",
              "    .dataframe tbody tr th {\n",
              "        vertical-align: top;\n",
              "    }\n",
              "\n",
              "    .dataframe thead th {\n",
              "        text-align: right;\n",
              "    }\n",
              "</style>\n",
              "<table border=\"1\" class=\"dataframe\">\n",
              "  <thead>\n",
              "    <tr style=\"text-align: right;\">\n",
              "      <th></th>\n",
              "      <th>post_count</th>\n",
              "      <th>mean_len</th>\n",
              "      <th>retweet_sum</th>\n",
              "    </tr>\n",
              "    <tr>\n",
              "      <th>username</th>\n",
              "      <th></th>\n",
              "      <th></th>\n",
              "      <th></th>\n",
              "    </tr>\n",
              "  </thead>\n",
              "  <tbody>\n",
              "    <tr>\n",
              "      <th>000000000000oh</th>\n",
              "      <td>1</td>\n",
              "      <td>59.000000</td>\n",
              "      <td>0.0</td>\n",
              "    </tr>\n",
              "    <tr>\n",
              "      <th>0000Origins</th>\n",
              "      <td>1</td>\n",
              "      <td>122.000000</td>\n",
              "      <td>0.0</td>\n",
              "    </tr>\n",
              "    <tr>\n",
              "      <th>000Dave</th>\n",
              "      <td>3</td>\n",
              "      <td>224.333333</td>\n",
              "      <td>2.0</td>\n",
              "    </tr>\n",
              "    <tr>\n",
              "      <th>000_Mike_000</th>\n",
              "      <td>1</td>\n",
              "      <td>45.000000</td>\n",
              "      <td>0.0</td>\n",
              "    </tr>\n",
              "    <tr>\n",
              "      <th>000dotpls</th>\n",
              "      <td>3</td>\n",
              "      <td>126.333333</td>\n",
              "      <td>1.0</td>\n",
              "    </tr>\n",
              "  </tbody>\n",
              "</table>\n",
              "</div>"
            ],
            "text/plain": [
              "                post_count    mean_len  retweet_sum\n",
              "username                                           \n",
              "000000000000oh           1   59.000000          0.0\n",
              "0000Origins              1  122.000000          0.0\n",
              "000Dave                  3  224.333333          2.0\n",
              "000_Mike_000             1   45.000000          0.0\n",
              "000dotpls                3  126.333333          1.0"
            ]
          },
          "execution_count": 393,
          "metadata": {},
          "output_type": "execute_result"
        }
      ],
      "source": [
        "y=df['like_sum']\n",
        "x=df.drop('like_sum', axis=1)\n",
        "x.head()"
      ]
    },
    {
      "cell_type": "code",
      "execution_count": null,
      "id": "d81b7e86",
      "metadata": {
        "id": "d81b7e86",
        "outputId": "79a9c5cf-2bcc-493b-9cd2-39fd1f6703d5"
      },
      "outputs": [
        {
          "data": {
            "text/html": [
              "<div>\n",
              "<style scoped>\n",
              "    .dataframe tbody tr th:only-of-type {\n",
              "        vertical-align: middle;\n",
              "    }\n",
              "\n",
              "    .dataframe tbody tr th {\n",
              "        vertical-align: top;\n",
              "    }\n",
              "\n",
              "    .dataframe thead th {\n",
              "        text-align: right;\n",
              "    }\n",
              "</style>\n",
              "<table border=\"1\" class=\"dataframe\">\n",
              "  <thead>\n",
              "    <tr style=\"text-align: right;\">\n",
              "      <th></th>\n",
              "      <th>post_count</th>\n",
              "      <th>mean_len</th>\n",
              "      <th>retweet_sum</th>\n",
              "    </tr>\n",
              "    <tr>\n",
              "      <th>username</th>\n",
              "      <th></th>\n",
              "      <th></th>\n",
              "      <th></th>\n",
              "    </tr>\n",
              "  </thead>\n",
              "  <tbody>\n",
              "    <tr>\n",
              "      <th>mlynxqualey</th>\n",
              "      <td>1</td>\n",
              "      <td>209.0</td>\n",
              "      <td>1.0</td>\n",
              "    </tr>\n",
              "    <tr>\n",
              "      <th>mm_alali1</th>\n",
              "      <td>1</td>\n",
              "      <td>73.0</td>\n",
              "      <td>0.0</td>\n",
              "    </tr>\n",
              "    <tr>\n",
              "      <th>mm_brockmeyer</th>\n",
              "      <td>1</td>\n",
              "      <td>61.0</td>\n",
              "      <td>0.0</td>\n",
              "    </tr>\n",
              "    <tr>\n",
              "      <th>mm_newsletter</th>\n",
              "      <td>2</td>\n",
              "      <td>128.0</td>\n",
              "      <td>0.0</td>\n",
              "    </tr>\n",
              "    <tr>\n",
              "      <th>mm_vampz</th>\n",
              "      <td>1</td>\n",
              "      <td>109.0</td>\n",
              "      <td>0.0</td>\n",
              "    </tr>\n",
              "  </tbody>\n",
              "</table>\n",
              "</div>"
            ],
            "text/plain": [
              "               post_count  mean_len  retweet_sum\n",
              "username                                        \n",
              "mlynxqualey             1     209.0          1.0\n",
              "mm_alali1               1      73.0          0.0\n",
              "mm_brockmeyer           1      61.0          0.0\n",
              "mm_newsletter           2     128.0          0.0\n",
              "mm_vampz                1     109.0          0.0"
            ]
          },
          "execution_count": 394,
          "metadata": {},
          "output_type": "execute_result"
        }
      ],
      "source": [
        "#Разбить выборку на обучающую и тестовую.\n",
        "x_train, x_test, y_train, y_test = train_test_split(x ,y ,test_size=0.2, shuffle=False)#,random_state=True)#\n",
        "x_test.head()"
      ]
    },
    {
      "cell_type": "code",
      "execution_count": null,
      "id": "0b6158d0",
      "metadata": {
        "id": "0b6158d0"
      },
      "outputs": [],
      "source": [
        "m = LinearRegression()\n",
        "m.fit(x_train, y_train)\n",
        "ypred= m.predict((x_test))"
      ]
    },
    {
      "cell_type": "code",
      "execution_count": null,
      "id": "5c60e752",
      "metadata": {
        "id": "5c60e752",
        "outputId": "b8303da4-edcb-4dc1-8935-851c6d15d736"
      },
      "outputs": [
        {
          "data": {
            "text/plain": [
              "10.38783114142783"
            ]
          },
          "execution_count": 396,
          "metadata": {},
          "output_type": "execute_result"
        }
      ],
      "source": [
        "#MAE\n",
        "np.mean(abs(y_test-ypred))"
      ]
    },
    {
      "cell_type": "code",
      "execution_count": null,
      "id": "0a4f8b7a",
      "metadata": {
        "id": "0a4f8b7a",
        "outputId": "0d389cf9-b087-410c-e9e2-dad1bd46b12f"
      },
      "outputs": [
        {
          "data": {
            "text/plain": [
              "2.0723205155010485"
            ]
          },
          "execution_count": 397,
          "metadata": {},
          "output_type": "execute_result"
        }
      ],
      "source": [
        "#MAPE\n",
        "np.mean(abs(((y_test+1)-(ypred+1))/(y_test+1) ))"
      ]
    },
    {
      "cell_type": "code",
      "execution_count": null,
      "id": "f664fc9c",
      "metadata": {
        "id": "f664fc9c",
        "outputId": "5e48abc9-63da-43b3-81af-7bdf470c6691"
      },
      "outputs": [
        {
          "data": {
            "text/plain": [
              "0.5980622870596659"
            ]
          },
          "execution_count": 398,
          "metadata": {},
          "output_type": "execute_result"
        }
      ],
      "source": [
        "#коэффициент детерминации R-квадрат\n",
        "r2_score(y_test, ypred)"
      ]
    },
    {
      "cell_type": "markdown",
      "id": "ce4112e3",
      "metadata": {
        "id": "ce4112e3"
      },
      "source": [
        "Около 59.8% вариабельности зависимой переменной может быть объяснено независимыми переменными, использованными в модели регрессии. Таким образом, модель объясняет большую часть вариабельности, но не все"
      ]
    },
    {
      "cell_type": "code",
      "execution_count": null,
      "id": "bee3087d",
      "metadata": {
        "id": "bee3087d",
        "outputId": "040efa5c-088a-4ea2-d84d-ebdfdc5be363"
      },
      "outputs": [
        {
          "name": "stdout",
          "output_type": "stream",
          "text": [
            "post_count 0.06485570235416871\n",
            "mean_len -0.03131773451854869\n",
            "retweet_sum 3.9150109056744826\n"
          ]
        }
      ],
      "source": [
        "for i in range (x.shape[1]):\n",
        "    print(x.columns.tolist()[i],m.coef_[i])"
      ]
    }
  ],
  "metadata": {
    "kernelspec": {
      "display_name": "Python 3 (ipykernel)",
      "language": "python",
      "name": "python3"
    },
    "language_info": {
      "codemirror_mode": {
        "name": "ipython",
        "version": 3
      },
      "file_extension": ".py",
      "mimetype": "text/x-python",
      "name": "python",
      "nbconvert_exporter": "python",
      "pygments_lexer": "ipython3",
      "version": "3.9.8"
    },
    "colab": {
      "provenance": []
    }
  },
  "nbformat": 4,
  "nbformat_minor": 5
}